{
 "cells": [
  {
   "cell_type": "code",
   "execution_count": 7,
   "id": "7a272df3",
   "metadata": {},
   "outputs": [
    {
     "name": "stdout",
     "output_type": "stream",
     "text": [
      "The autoreload extension is already loaded. To reload it, use:\n",
      "  %reload_ext autoreload\n"
     ]
    }
   ],
   "source": [
    "%load_ext autoreload\n",
    "%autoreload 2\n",
    "from importlib import reload\n",
    "import glob\n",
    "import pickle\n",
    "import numpy as np\n",
    "import os\n",
    "import astropy.io.fits as fits\n",
    "import pandas as pd\n",
    "import pyklip.klip as klip\n",
    "import pyklip.instruments.MagAO as MagAO\n",
    "import pyklip.parallelized as parallelized\n",
    "import pyklip.fakes as fakes\n",
    "import matplotlib.pyplot as plt\n",
    "import snr\n",
    "import sys\n",
    "import pdb\n",
    "from tqdm import tqdm\n",
    "import seaborn as sns\n",
    "import collapse as c\n",
    "\n",
    "#####################\n",
    "# Display and backend\n",
    "#####################\n",
    "plt.style.use(\"default\") # Reset to default before layering on any changes\n",
    "FIG_LARGE = (12, 8) # Default plot figure size for large figures\n",
    "%config InlineBackend.figure_format = \"retina\" # Crisp retina display on macs\n",
    "#%matplotlib qt5 \n",
    "\n",
    "################\n",
    "# Theme settings\n",
    "################\n",
    "notebook_mode = \"paper\" # (paper | dark)\n",
    "sns.set(palette=\"colorblind\", color_codes=True, context=\"talk\")\n",
    "\n",
    "if notebook_mode.lower() == \"paper\":\n",
    "    tick_params = {\n",
    "        \"xtick.top\":True,\n",
    "        \"xtick.direction\":\"in\",\n",
    "        \"ytick.right\":True,\n",
    "        \"ytick.direction\":\"in\",\n",
    "        \"axes.spine.right\":True\n",
    "    }\n",
    "    sns.set_style(\"ticks\", tick_params)\n",
    "    params = {\n",
    "        \"axes.formatter.limits\":(-3, 7),\n",
    "        \"xtick.major.size\":14,\n",
    "        \"ytick.major.size\":14,\n",
    "        \"xtick.minor.visible\":True,\n",
    "        \"ytick.minor.visible\":True,\n",
    "    }\n",
    "    plt.rcParams.update(params)\n",
    "\n",
    "elif notebook_mode.lower() == \"dark\":\n",
    "    plt.style.use(\"cyberpunk\")\n",
    "\n",
    "else:\n",
    "    plt.style.use(\"default\")"
   ]
  },
  {
   "cell_type": "code",
   "execution_count": null,
   "id": "10012cca",
   "metadata": {},
   "outputs": [],
   "source": []
  }
 ],
 "metadata": {
  "kernelspec": {
   "display_name": "Python 3 (ipykernel)",
   "language": "python",
   "name": "python3"
  },
  "language_info": {
   "codemirror_mode": {
    "name": "ipython",
    "version": 3
   },
   "file_extension": ".py",
   "mimetype": "text/x-python",
   "name": "python",
   "nbconvert_exporter": "python",
   "pygments_lexer": "ipython3",
   "version": "3.9.12"
  }
 },
 "nbformat": 4,
 "nbformat_minor": 5
}
